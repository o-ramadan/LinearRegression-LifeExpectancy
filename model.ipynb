{
 "cells": [
  {
   "cell_type": "code",
   "execution_count": 1,
   "id": "4d1910ec-ff92-4e62-9de7-49fe5d79643a",
   "metadata": {},
   "outputs": [],
   "source": [
    "import pandas as pd\n",
    "import numpy as np\n",
    "from sklearn.model_selection import train_test_split\n",
    "from sklearn.linear_model import LinearRegression"
   ]
  },
  {
   "cell_type": "code",
   "execution_count": 2,
   "id": "4ea421da-1339-4165-8fb1-f130b96ec1bf",
   "metadata": {},
   "outputs": [],
   "source": [
    "data_path = \"./data\"\n",
    "df = pd.read_csv( data_path + \"/Life Expectancy Data.csv\")"
   ]
  },
  {
   "cell_type": "code",
   "execution_count": 3,
   "id": "194464de-130c-4869-89a0-c6d3bfe13ef3",
   "metadata": {},
   "outputs": [],
   "source": [
    "#Create dummy columns for non-numerical columns\n",
    "country_dummy= pd.get_dummies(df['Country'])\n",
    "status_dummy = pd.get_dummies(df['Status'])\n",
    "df = pd.concat([df,country_dummy, status_dummy], axis = 1)\n",
    "df.drop(['Country', 'Status'], axis=1, inplace = True)"
   ]
  },
  {
   "cell_type": "code",
   "execution_count": 4,
   "id": "a228ff6b-71c4-4ede-a7bf-dc9160560f4e",
   "metadata": {},
   "outputs": [],
   "source": [
    "#Find columns that contain NaN values\n",
    "cols_with_nan = df.isnull().any()\n",
    "cols_with_nan = cols_with_nan[cols_with_nan == True].index.tolist()"
   ]
  },
  {
   "cell_type": "code",
   "execution_count": 5,
   "id": "6be1864b-73ea-4c30-a438-7d5c05f5f2e9",
   "metadata": {},
   "outputs": [],
   "source": [
    "#Replace NaN values with mean of column\n",
    "for col in cols_with_nan:\n",
    "    df[col].fillna(df[col].mean(), inplace = True)"
   ]
  },
  {
   "cell_type": "code",
   "execution_count": 6,
   "id": "ab120a24-4b61-46e8-ae18-9fc19750d23a",
   "metadata": {},
   "outputs": [],
   "source": [
    "#Create input and output data\n",
    "y = df['Life expectancy ']\n",
    "X = df.drop('Life expectancy ', axis = 1)"
   ]
  },
  {
   "cell_type": "code",
   "execution_count": 12,
   "id": "32d75183-03b9-4140-b08e-e5576ce309f0",
   "metadata": {},
   "outputs": [
    {
     "data": {
      "text/plain": [
       "0.9586204725845657"
      ]
     },
     "execution_count": 12,
     "metadata": {},
     "output_type": "execute_result"
    }
   ],
   "source": [
    "#Split into train and test\n",
    "X_train, X_test, y_train, y_test = train_test_split(X, y, train_size=0.8)\n",
    "\n",
    "#Create Linear Regression Model\n",
    "model = LinearRegression()\n",
    "\n",
    "#Fit training data\n",
    "model.fit(X_train,y_train)\n",
    "#Retrieve accuracy\n",
    "model.score(X_test,y_test)"
   ]
  },
  {
   "cell_type": "code",
   "execution_count": null,
   "id": "997e3320-9695-4f8b-a581-f521db773d21",
   "metadata": {},
   "outputs": [],
   "source": []
  }
 ],
 "metadata": {
  "kernelspec": {
   "display_name": "Python 3 (ipykernel)",
   "language": "python",
   "name": "python3"
  },
  "language_info": {
   "codemirror_mode": {
    "name": "ipython",
    "version": 3
   },
   "file_extension": ".py",
   "mimetype": "text/x-python",
   "name": "python",
   "nbconvert_exporter": "python",
   "pygments_lexer": "ipython3",
   "version": "3.9.7"
  }
 },
 "nbformat": 4,
 "nbformat_minor": 5
}
